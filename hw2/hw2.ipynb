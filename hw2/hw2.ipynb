{
 "cells": [
  {
   "cell_type": "markdown",
   "metadata": {},
   "source": [
    "# HW2: Single-View Geometry"
   ]
  },
  {
   "cell_type": "markdown",
   "metadata": {},
   "source": [
    "### Imports"
   ]
  },
  {
   "cell_type": "code",
   "execution_count": null,
   "metadata": {},
   "outputs": [],
   "source": [
    "import matplotlib\n",
    "import matplotlib.pyplot as plt\n",
    "%matplotlib inline\n",
    "import cv2\n",
    "import numpy as np\n",
    "import warnings; warnings.simplefilter('ignore')\n",
    "import matplotlib.lines as mlines\n",
    "\n",
    "from PIL import Image"
   ]
  },
  {
   "cell_type": "markdown",
   "metadata": {},
   "source": [
    "## Problem 1: line-line intersection"
   ]
  },
  {
   "cell_type": "markdown",
   "metadata": {},
   "source": [
    "In this section we will build up some tools we will use later. "
   ]
  },
  {
   "cell_type": "code",
   "execution_count": null,
   "metadata": {},
   "outputs": [],
   "source": [
    "# Provided plotting functions\n",
    "\n",
    "def draw_line(x,y,xlims=[0, 15],c='b--'):\n",
    "    xrange = np.arange(xlims[0],xlims[1],0.1)\n",
    "    A = np.vstack([x, np.ones(len(x))]).T\n",
    "    k, b = np.linalg.lstsq(A, y)[0]\n",
    "    plt.plot(xrange, k*xrange + b, c)\n",
    "    \n",
    "def newline(p1, p2):\n",
    "    ax = plt.gca()\n",
    "    xmin, xmax = ax.get_xbound()\n",
    "\n",
    "    if(p2[0] == p1[0]):\n",
    "        xmin = xmax = p1[0]\n",
    "        ymin, ymax = ax.get_ybound()\n",
    "    else:\n",
    "        ymax = p1[1]+(p2[1]-p1[1])/(p2[0]-p1[0])*(xmax-p1[0])\n",
    "        ymin = p1[1]+(p2[1]-p1[1])/(p2[0]-p1[0])*(xmin-p1[0])\n",
    "\n",
    "    l = mlines.Line2D([xmin,xmax], [ymin,ymax])\n",
    "    ax.add_line(l)\n",
    "    return l"
   ]
  },
  {
   "cell_type": "code",
   "execution_count": null,
   "metadata": {},
   "outputs": [],
   "source": [
    "n = 6\n",
    "P0 = np.stack((np.array([5, 5]) + 3*np.random.random(size=2) for i in range(n)))\n",
    "a = np.linspace(0, 2*np.pi,n) + np.random.random(size=n)*np.pi/5.0\n",
    "P1 = np.array([5 + 5*np.sin(a),5 + 5*np.cos(a)]).T\n",
    "\n",
    "x = np.stack((P0[:,0], P0[:,1]))\n",
    "y = np.stack((P1[:,0], P1[:,1]))\n",
    "\n",
    "plt.xlim([0,20])\n",
    "plt.ylim([-5,15])\n",
    "plt.plot(x, y, 'ro')\n",
    "\n",
    "for i in range(n):\n",
    "    draw_line(P0[i,:], P1[i,:])\n"
   ]
  },
  {
   "cell_type": "markdown",
   "metadata": {},
   "source": [
    "# Problem 2: Vanishing Point Estimation"
   ]
  },
  {
   "cell_type": "code",
   "execution_count": null,
   "metadata": {},
   "outputs": [],
   "source": [
    "im = np.asarray(Image.open('data/raymond_james_stadium.png'))\n",
    "plt.figure(figsize=(20, 40))"
   ]
  },
  {
   "cell_type": "markdown",
   "metadata": {},
   "source": [
    "Use the provided pixel locations to solve for the vanishing points, then solve for the horizon line from the vanishing points."
   ]
  },
  {
   "cell_type": "code",
   "execution_count": null,
   "metadata": {},
   "outputs": [],
   "source": [
    "# Load in points from points.txt\n",
    "\n",
    "\n",
    "points = np.genfromtxt(\"data/points.txt\", delimiter=',')\n",
    "\n",
    "points_dict = []\n",
    "with open('data/points_dict.txt','r') as inf:\n",
    "    for line in inf:\n",
    "        points_dict.append(eval(line))  \n",
    "        \n",
    "points_dict = points_dict[0]"
   ]
  },
  {
   "cell_type": "markdown",
   "metadata": {},
   "source": [
    "# Problem 3: Homography"
   ]
  },
  {
   "cell_type": "markdown",
   "metadata": {},
   "source": [
    "## Problem 3a: Looking at the rectangle "
   ]
  },
  {
   "cell_type": "code",
   "execution_count": null,
   "metadata": {},
   "outputs": [],
   "source": [
    "# Load the 4 corners in pixels and plot the points and use cv2.polylines to draw the polygon\n",
    "\n",
    "im = np.asarray(Image.open('data/raymond_james_stadium.png'))\n",
    "\n",
    "corners = []\n",
    "with open('data/corners.txt','r') as inf:\n",
    "    for line in inf:\n",
    "        corners.append(eval(line))  \n",
    "        "
   ]
  },
  {
   "cell_type": "markdown",
   "metadata": {},
   "source": [
    "## Problem 3b: Rectification "
   ]
  },
  {
   "cell_type": "code",
   "execution_count": null,
   "metadata": {},
   "outputs": [],
   "source": [
    "# Find the homography and rectify the rectangle\n",
    "\n",
    "plt.figure(figsize=(20, 40))\n",
    "\n",
    "plt.axis('off')\n",
    "plt.subplot(121),plt.imshow(im),plt.title('Input')\n",
    "plt.axis('off')\n",
    "plt.subplot(122),plt.imshow(rectified_image),plt.title('Output')\n",
    "plt.axis('off')\n",
    "plt.show()"
   ]
  },
  {
   "cell_type": "markdown",
   "metadata": {},
   "source": [
    "## Problem 3c: Measuring distances "
   ]
  },
  {
   "cell_type": "code",
   "execution_count": null,
   "metadata": {},
   "outputs": [],
   "source": [
    "plt.figure(figsize=(20, 40))\n",
    "plt.imshow(im)\n",
    "\n",
    "players = []\n",
    "with open('data/players.txt','r') as inf:\n",
    "    for line in inf:\n",
    "        players.append(eval(line))  \n",
    "\n",
    "players = players[0]\n",
    "\n",
    "# Plot a few locations on the field, these are points of interest for the next problem\n",
    "ref1_loc = players['ref1_loc']\n",
    "ref2_loc = players['ref2_loc']\n",
    "player_loc = players['player_loc']\n"
   ]
  },
  {
   "cell_type": "code",
   "execution_count": null,
   "metadata": {},
   "outputs": [],
   "source": [
    "\n",
    "print(\"The distance between the player and ref1 is: {} yards.\".format(result))"
   ]
  },
  {
   "cell_type": "markdown",
   "metadata": {},
   "source": [
    "# Problem 4"
   ]
  },
  {
   "cell_type": "code",
   "execution_count": null,
   "metadata": {},
   "outputs": [],
   "source": [
    "# interstage measurement from https://spaceflight101.com/spacerockets/falcon-9-ft/\n",
    "from imageio import imread\n",
    "plt.figure(figsize=(20, 40))\n",
    "\n",
    "image = imread('composites.jpg')\n",
    "plt.imshow(image)\n",
    "\n",
    "points_dict = []\n",
    "with open('data/spacex_factory.txt','r') as inf:\n",
    "    for line in inf:\n",
    "        points_dict.append(eval(line))  \n",
    "        \n",
    "points_dict = points_dict[0]\n"
   ]
  },
  {
   "cell_type": "code",
   "execution_count": null,
   "metadata": {},
   "outputs": [],
   "source": [
    "from imageio import imread\n",
    "plt.figure(figsize=(20, 40))\n",
    "\n",
    "image = imread('composites.jpg')\n",
    "plt.imshow(image)\n",
    "\n",
    "# New stuff for this problem\n",
    "metrology_points = []\n",
    "with open('data/rocket_metrology.txt','r') as inf:\n",
    "    for line in inf:\n",
    "        metrology_points.append(eval(line))  \n",
    "        \n",
    "metrology_points = metrology_points[0]\n",
    "\n",
    "reference_point = metrology_points['reference_point']\n",
    "top_interstage = metrology_points['top_interstage']\n",
    "top_nosecone = metrology_points['top_nosecone']\n",
    "bottom_nosecone = metrology_points['bottom_nosecone']\n",
    "bottom_interstage = metrology_points['bottom_interstage']\n"
   ]
  },
  {
   "cell_type": "code",
   "execution_count": null,
   "metadata": {},
   "outputs": [],
   "source": [
    "def cross_ratio(t, b, r, v_z):\n",
    "    pass\n",
    "\n",
    "print(\"The estimated height of the nosecone is: {} meters.\".format(H))"
   ]
  }
 ],
 "metadata": {
  "kernelspec": {
   "display_name": "Python 3",
   "language": "python",
   "name": "python3"
  },
  "language_info": {
   "codemirror_mode": {
    "name": "ipython",
    "version": 3
   },
   "file_extension": ".py",
   "mimetype": "text/x-python",
   "name": "python",
   "nbconvert_exporter": "python",
   "pygments_lexer": "ipython3",
   "version": "3.7.7"
  }
 },
 "nbformat": 4,
 "nbformat_minor": 2
}
