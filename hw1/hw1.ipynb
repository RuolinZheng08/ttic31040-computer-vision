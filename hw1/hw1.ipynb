{
 "cells": [
  {
   "cell_type": "markdown",
   "metadata": {},
   "source": [
    "# Problem set 1 : Seeing in Color"
   ]
  },
  {
   "cell_type": "markdown",
   "metadata": {},
   "source": [
    "#  PROBLEM 1 : color alignment"
   ]
  },
  {
   "cell_type": "code",
   "execution_count": null,
   "metadata": {},
   "outputs": [],
   "source": [
    "# setting up the environment\n",
    "\n",
    "import numpy as np\n",
    "import cv2  # if you don't have it, you can install it in anaconda prompt: pip install opencv-python\n",
    "import matplotlib.image as mpimg\n",
    "import matplotlib.pyplot as plt\n",
    "import scipy\n",
    "import scipy.ndimage\n",
    "from imageio import imread, imsave\n",
    "%matplotlib inline"
   ]
  },
  {
   "cell_type": "code",
   "execution_count": null,
   "metadata": {},
   "outputs": [],
   "source": [
    "# reading the three color channels, and displaying them (as way as the default alignment)\n",
    "red = np.array(imread('images/prokudin-girls-red.ppm',as_gray=True)/255.0)\n",
    "blue = np.array(imread('images/prokudin-girls-blue.ppm',as_gray=True)/255.0)\n",
    "green = np.array(imread('images/prokudin-girls-green.ppm',as_gray=True)/255.0)\n",
    "\n",
    "print('Image size: %d x %d'% (blue.shape[0],blue.shape[1]))\n",
    "\n",
    "# right figure size will make sure the images are displayed well, without too much aliasing or blur\n",
    "plt.figure(figsize=(14,7))\n",
    "plt.axis('off')\n",
    "plt.imshow(blue, cmap='gray')\n",
    "\n",
    "plt.figure(figsize=(14,7))\n",
    "plt.axis('off')\n",
    "plt.imshow(green, cmap='gray')\n",
    "\n",
    "plt.figure(figsize=(14,7))\n",
    "plt.axis('off')\n",
    "plt.imshow(red, cmap='gray')\n",
    "\n",
    "# now try to just superimpose the three channels; you will see significant color artifacts due to misalignment\n",
    "color=np.dstack((red,green,blue))\n",
    "plt.figure(figsize=(14,7))\n",
    "plt.axis('off')\n",
    "plt.imshow(color)"
   ]
  },
  {
   "cell_type": "markdown",
   "metadata": {},
   "source": [
    "Now go ahead: implement the code for searching for the optimal alignment, and test it first on the test_image where you can introduce \"synthetic\" shifts, and make sure you recover from them; and then the Prokudin-Gorskii image we used above, as well as the other triplet provided (the rock image), and any additonal triplets if you would like."
   ]
  },
  {
   "cell_type": "markdown",
   "metadata": {},
   "source": [
    "# PROBLEM 2: Demosaicing Bayer patterns"
   ]
  },
  {
   "cell_type": "code",
   "execution_count": null,
   "metadata": {
    "scrolled": true
   },
   "outputs": [],
   "source": [
    "# we will work with this images, saved as a mosaic\n",
    "# look at it first\n",
    "image_path = 'images/crayons.bmp'\n",
    "\n",
    "def read_image(image_path):\n",
    "    image = cv2.imread(image_path, cv2.IMREAD_GRAYSCALE)\n",
    "    return image\n",
    "\n",
    "mosaic_img = read_image(image_path)\n",
    "\n",
    "# Visualize the mosaic; you will notice the \"checkerboard\" pattern \n",
    "# (you may need to make the figure larger or smaller to see it clearly)\n",
    "plt.figure(figsize=(20,10))\n",
    "plt.axis('off')\n",
    "plt.imshow(mosaic_img, cmap='gray')        "
   ]
  },
  {
   "cell_type": "markdown",
   "metadata": {},
   "source": [
    "## Naive demosaicing"
   ]
  },
  {
   "cell_type": "markdown",
   "metadata": {},
   "source": [
    "Separately interpolate each color channel"
   ]
  },
  {
   "cell_type": "markdown",
   "metadata": {},
   "source": [
    "## Freeman's Method"
   ]
  },
  {
   "cell_type": "markdown",
   "metadata": {},
   "source": [
    "Tie the R and B channels to G, as described; take care to scale the color values (and then un-scale them) to make sure they have the same mean across channels."
   ]
  }
 ],
 "metadata": {
  "kernelspec": {
   "display_name": "Python 3",
   "language": "python",
   "name": "python3"
  },
  "language_info": {
   "codemirror_mode": {
    "name": "ipython",
    "version": 3
   },
   "file_extension": ".py",
   "mimetype": "text/x-python",
   "name": "python",
   "nbconvert_exporter": "python",
   "pygments_lexer": "ipython3",
   "version": "3.7.6"
  }
 },
 "nbformat": 4,
 "nbformat_minor": 2
}
