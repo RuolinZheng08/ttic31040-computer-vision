{
 "cells": [
  {
   "cell_type": "code",
   "execution_count": 1,
   "metadata": {},
   "outputs": [],
   "source": [
    "from imageio import imread, imsave\n",
    "import numpy as np\n",
    "import cv2\n",
    "import meshplot\n",
    "from imageio import imread, imsave\n",
    "from skimage.segmentation import slic\n",
    "from skimage.segmentation import mark_boundaries\n",
    "import matplotlib.pyplot as plt\n",
    "import cv2\n",
    "import meshplot as mp"
   ]
  },
  {
   "cell_type": "markdown",
   "metadata": {},
   "source": [
    "# Problem 1"
   ]
  },
  {
   "cell_type": "code",
   "execution_count": 5,
   "metadata": {},
   "outputs": [],
   "source": [
    "def sampson_distance(F, x1, x2):\n",
    " \n",
    "    # Compute sampson error for each correspondence.\n",
    "    Fx1 = np.dot(F, x1)\n",
    "    Fx2 = np.dot(F, x2)\n",
    "    denom = Fx1[0]**2 + Fx1[1]**2 + Fx2[0]**2 + Fx2[1]**2\n",
    "    err = ( np.diag(np.dot(x1.T, np.dot(F,x2))) )**2 / denom \n",
    "\n",
    "    # return error per point\n",
    "    return err\n",
    "\n",
    "def compute_epipole(F):\n",
    "    \"\"\" Computes the (right) epipole from a\n",
    "    fundamental matrix F.\n",
    "    (Use with F.T for left epipole.) \"\"\"\n",
    "    \n",
    "    # Fe_1 = 0, thus need to return null space of F (Fx = 0)\n",
    "    pass\n",
    "\n",
    "def plot_epipolar_line(im, F, x, epipole=None, show_epipole=True, start=0):\n",
    "    \"\"\" Plot the epipole and epipolar line F*x=0\n",
    "        in an image. F is the fundamental matrix \n",
    "        and x a point in the other image.\"\"\"\n",
    "    \n",
    "    m,n = im.shape[:2]\n",
    "    line = np.dot(F,x)\n",
    "    \n",
    "    # epipolar line parameter and values\n",
    "    t = np.linspace(start,n,100)\n",
    "    lt = np.array([(line[2]+line[0]*tt)/(-line[1]) for tt in t])\n",
    "\n",
    "    # take only line points inside the image\n",
    "    ndx = (lt>=0) & (lt<m) \n",
    "    plt.plot(t[ndx],lt[ndx],linewidth=2)\n",
    "    \n",
    "    if show_epipole:\n",
    "        if epipole is None:\n",
    "            epipole = compute_epipole(F)\n",
    "        plt.plot(epipole[0]/epipole[2],epipole[1]/epipole[2],'r*')\n",
    "\n",
    "def compute_fundamental(x1,x2):\n",
    "    \"\"\" Computes the fundamental matrix from corresponding points\n",
    "    (x1,x2 3*n arrays) using the normalized 8 point algorithm.\n",
    "    each row is constructed as\n",
    "    [x’*x, x’*y, x’, y’*x, y’*y, y’, x, y, 1] \"\"\"\n",
    "    \n",
    "    pass\n",
    "\n",
    "def compute_fundamental_normalized(x1,x2):\n",
    "    \"\"\"    Computes the fundamental matrix from corresponding points \n",
    "        (x1,x2 3xn arrays) using the normalized 8 point algorithm. \"\"\"\n",
    "\n",
    "    # normalize image coordinates\n",
    "    x1n = 0\n",
    "    x2n = 0\n",
    "\n",
    "    # compute F with the normalized coordinates\n",
    "    F = compute_fundamental(x1n, x2n)\n",
    "\n",
    "    pass\n",
    "\n",
    "def skew(a):\n",
    "    \"\"\" Skew matrix A such that a x v = Av for any v. \"\"\"\n",
    "    return np.array([[0,-a[2],a[1]],[a[2],0,-a[0]],[-a[1],a[0],0]])\n",
    "\n",
    "def make_homog(points):\n",
    "    return np.vstack((points, np.ones((1, points.shape[1]))))\n",
    "\n",
    "\n",
    "def triangulate(x1, x2, P1, P2):\n",
    "    \"\"\"    \n",
    "    Two-view triangulation of points in x1,x2 (3xn homog. coordinates). \n",
    "    Return: 3xn point cloud\n",
    "    \"\"\"\n",
    "    pass\n",
    "\n",
    "def extract_correspondences(im1, im2, coeff=0.5):\n",
    "    # similar to your panorama implementation, can copy/paste\n",
    "    sift = cv2.xfeatures2d.SIFT_create()\n",
    "    kp1, pts1 = sift.detectAndCompute(im1, None)\n",
    "    kp2, pts2 = sift.detectAndCompute(im2, None)\n",
    "    matches = cv2.BFMatcher().knnMatch(pts1, pts2, k=2)\n",
    "    matches_for_plot = [[m] for m, n in matches \n",
    "                        if m.distance < coeff * n.distance]\n",
    "\n",
    "    return pts1, pts2, matches_for_plot, kp1, kp2"
   ]
  },
  {
   "cell_type": "code",
   "execution_count": 6,
   "metadata": {},
   "outputs": [],
   "source": [
    "merton1 = imread(\"data/merton1.jpg\")\n",
    "merton2 = imread(\"data/merton2.jpg\")"
   ]
  },
  {
   "cell_type": "code",
   "execution_count": 7,
   "metadata": {
    "scrolled": true
   },
   "outputs": [],
   "source": [
    "pts1, pts2, matches_for_plot, kp1, kp2 = extract_correspondences(\n",
    "    merton1, merton2, coeff=0.3)"
   ]
  },
  {
   "cell_type": "code",
   "execution_count": null,
   "metadata": {},
   "outputs": [],
   "source": [
    "# cv2.drawMatchesKnn expects list of lists as matches.\n",
    "img3 = cv2.drawMatchesKnn(merton1, kp1, merton2,\n",
    "                          kp2, matches_for_plot, None,\n",
    "                          flags=cv2.DrawMatchesFlags_NOT_DRAW_SINGLE_POINTS)\n",
    "\n",
    "plt.figure(figsize=(20, 10))\n",
    "plt.axis('off')\n",
    "plt.imshow(img3)\n",
    "plt.show()"
   ]
  },
  {
   "cell_type": "code",
   "execution_count": null,
   "metadata": {},
   "outputs": [],
   "source": [
    "# Sampson error\n",
    "\n",
    "x1 = pts1\n",
    "x2 = pts2\n",
    "x1 = make_homog(x1.T)\n",
    "x2 = make_homog(x2.T)\n",
    "\n",
    "F = compute_fundamental(x1, x2)\n",
    "\n",
    "error = sampson_distance(F, make_homog(pts1.T), make_homog(pts2.T))\n",
    "print(np.median(error))\n",
    "print(\"Average Sampson error: {}\".format(np.mean(error)))"
   ]
  },
  {
   "cell_type": "code",
   "execution_count": null,
   "metadata": {},
   "outputs": [],
   "source": [
    "# Epiline plotting\n",
    "\n",
    "rand_ind = np.random.permutation(pts2.shape[0])\n",
    "\n",
    "e = compute_epipole(F)\n",
    "\n",
    "plt.figure(1, figsize=(15,10))\n",
    "plt.subplot(121)\n",
    "plt.axis('off')\n",
    "plt.imshow(merton1)\n",
    "\n",
    "for i in range(20):\n",
    "    x = make_homog(pts1.T).T[rand_ind[i],:]\n",
    "    plot_epipolar_line(merton1, F, x2[:,i], e, False)\n",
    "\n",
    "plt.subplot(122)\n",
    " \n",
    "plt.axis('off')\n",
    "plt.imshow(merton2)\n",
    "\n",
    "for i in range(20):\n",
    "    plt.plot(x2[0,i],x2[1,i],'o')\n",
    "    \n",
    "\n",
    "plt.show()"
   ]
  },
  {
   "cell_type": "code",
   "execution_count": null,
   "metadata": {},
   "outputs": [],
   "source": [
    "# Epipole plotting\n",
    "\n",
    "plt.figure(1, figsize=(30,20))\n",
    "\n",
    "plt.subplot(122)\n",
    "plt.axis('off')\n",
    "plt.imshow(merton1)\n",
    "\n",
    "plt.figure(1, figsize=(15,10))\n",
    "\n",
    "e = compute_epipole(F.T)\n",
    "\n",
    "for i in range(20):\n",
    "    x = make_homog(pts1.T).T[rand_ind[i],:]\n",
    "    plot_epipolar_line(merton1, F, x2[:,i], e, True, start=-1000)\n",
    "\n",
    "    \n",
    "plt.show()"
   ]
  },
  {
   "cell_type": "code",
   "execution_count": null,
   "metadata": {
    "scrolled": true
   },
   "outputs": [],
   "source": [
    "# Triangulation\n",
    "\n",
    "P1 = np.loadtxt(\"data/001.P\")\n",
    "P2 = np.loadtxt(\"data/002.P\")\n",
    "\n",
    "pts1, pts2, match_for_plot, kp1, kp2 = extract_correspondences(merton1, merton2, coeff=0.8)\n",
    "\n",
    "x1 = pts1\n",
    "x2 = pts2\n",
    "\n",
    "x1 = make_homog(x1.T)\n",
    "x2 = make_homog(x2.T)\n",
    "\n",
    "colors = []\n",
    "\n",
    "for i in range(pts1.shape[0]):\n",
    "    u, v = pts1[i,:]\n",
    "    colors.append(merton1[v, u,:]/255.)\n",
    "    \n",
    "colors = np.array(colors)\n",
    "points_est = triangulate(x1, x2, P1, P2)[:3,:].T\n",
    "\n",
    "d = mp.subplot(v=points_est, c=colors, s=[1, 2, 0], shading={\"point_size\": 0.5})"
   ]
  },
  {
   "cell_type": "markdown",
   "metadata": {},
   "source": [
    "# Problem 2"
   ]
  },
  {
   "cell_type": "code",
   "execution_count": null,
   "metadata": {},
   "outputs": [],
   "source": [
    "import math\n",
    "from skimage import io, color\n",
    "import numpy as np\n",
    "from tqdm import trange\n",
    "\n",
    "# note: you can convert to LAB with lab_arr = color.rgb2lab(rgb)\n",
    "\n",
    "if __name__ == '__main__':\n",
    "    p = SLIC('data/elon.png', K=300, M=40)\n",
    "    p.iterate()\n",
    "\n"
   ]
  },
  {
   "cell_type": "code",
   "execution_count": null,
   "metadata": {},
   "outputs": [],
   "source": []
  },
  {
   "cell_type": "code",
   "execution_count": null,
   "metadata": {},
   "outputs": [],
   "source": []
  }
 ],
 "metadata": {
  "kernelspec": {
   "display_name": "Python 3",
   "language": "python",
   "name": "python3"
  },
  "language_info": {
   "codemirror_mode": {
    "name": "ipython",
    "version": 3
   },
   "file_extension": ".py",
   "mimetype": "text/x-python",
   "name": "python",
   "nbconvert_exporter": "python",
   "pygments_lexer": "ipython3",
   "version": "3.8.3"
  }
 },
 "nbformat": 4,
 "nbformat_minor": 4
}
